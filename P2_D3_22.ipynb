{
  "nbformat": 4,
  "nbformat_minor": 0,
  "metadata": {
    "colab": {
      "provenance": [],
      "authorship_tag": "ABX9TyPOwayOlxe7AP6PG0tPMI6b",
      "include_colab_link": true
    },
    "kernelspec": {
      "name": "python3",
      "display_name": "Python 3"
    },
    "language_info": {
      "name": "python"
    }
  },
  "cells": [
    {
      "cell_type": "markdown",
      "metadata": {
        "id": "view-in-github",
        "colab_type": "text"
      },
      "source": [
        "<a href=\"https://colab.research.google.com/github/Putra1688/PCVK25_3G_22/blob/main/P2_D3_22.ipynb\" target=\"_parent\"><img src=\"https://colab.research.google.com/assets/colab-badge.svg\" alt=\"Open In Colab\"/></a>"
      ]
    },
    {
      "cell_type": "markdown",
      "source": [
        "\n",
        "<table border=\"1\">\n",
        "  <tr>\n",
        "    <td>Nama</td>\n",
        "    <td>Rangga Dwi Saputra</td>\n",
        "  </tr>\n",
        "  <tr>\n",
        "    <td>NIM</td>\n",
        "    <td>2341720248</td>\n",
        "  </tr>\n",
        "  <tr>\n",
        "    <td>Kelas</td>\n",
        "    <td>TI 3G</td>\n",
        "  </tr>\n",
        "  <tr>\n",
        "    <td>Pertemuan</td>\n",
        "    <td>3 - 12, September 2025</td>\n",
        "  </tr>\n",
        "</table>\n"
      ],
      "metadata": {
        "id": "lfpiS8Kal7Xp"
      }
    },
    {
      "cell_type": "markdown",
      "source": [
        "## **D3. Pengenalan Python: Pengolahan Citra Dasar dan memahami channel warna pada OpenCV dan konversinya**\n"
      ],
      "metadata": {
        "id": "pvsZAyOgoEQa"
      }
    },
    {
      "cell_type": "markdown",
      "source": [
        "\n",
        "\n",
        "**1.   Bikin koneksi antara Colab dengan Google Drive agar bisa mengakses file didalamnya.**\n",
        "\n"
      ],
      "metadata": {
        "id": "B4qxuW4huRB-"
      }
    },
    {
      "cell_type": "code",
      "execution_count": 3,
      "metadata": {
        "id": "R8R1ksMb3bjp",
        "colab": {
          "base_uri": "https://localhost:8080/"
        },
        "outputId": "05e9adbc-09ca-454e-a3ee-5bcf03b9aeb3"
      },
      "outputs": [
        {
          "output_type": "stream",
          "name": "stdout",
          "text": [
            "Drive already mounted at /content/drive; to attempt to forcibly remount, call drive.mount(\"/content/drive\", force_remount=True).\n"
          ]
        }
      ],
      "source": [
        "from google.colab import drive\n",
        "drive.mount('/content/drive')"
      ]
    }
  ]
}